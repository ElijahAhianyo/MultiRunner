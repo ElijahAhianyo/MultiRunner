{
 "cells": [
  {
   "cell_type": "code",
   "execution_count": 40,
   "metadata": {
    "collapsed": true
   },
   "outputs": [],
   "source": [
    "# %load ../Write_a_python_package/Multi_runner/MultiRunner.py\n",
    "\n",
    "import pickle\n",
    "import itertools\n",
    "import os\n",
    "import random\n",
    "import pickle\n",
    "\n",
    "class parallel_runner():\n",
    "    def __init__(self,ini_dir=\"./ini/\",result_dir=\"./results/\",max_error_times=5,if_log=False):\n",
    "        if ini_dir[-1]!=\"/\":\n",
    "            ini_dir+=\"/\"\n",
    "        if result_dir[-1]!=\"/\":\n",
    "            result_dir+=\"/\"\n",
    "        self.ini_dir=ini_dir\n",
    "        self.max_error_times=max_error_times\n",
    "        self.result_dir=result_dir\n",
    "        if not os.path.exists(self.result_dir):\n",
    "            os.mkdir(self.result_dir)\n",
    "        self.if_log=if_log\n",
    "        pass\n",
    "    \n",
    "    def generate_ini(self,args_list,reserve_old_ini=True,show_ini=False):\n",
    "        if not os.path.exists(self.ini_dir):\n",
    "            os.mkdir(self.ini_dir)\n",
    "        else:\n",
    "            if len(os.listdir(self.ini_dir))>0:\n",
    "                if reserve_old_ini:\n",
    "                    if self.if_log:\n",
    "                        print \"Ini files already generated.\"\n",
    "                    return\n",
    "                else:\n",
    "                    if self.if_log:\n",
    "                        print \"There are old ini files to be deleted.\\nPlease delete the old ini files manually and try again.\"\n",
    "                    return\n",
    "        count=1\n",
    "        for i in itertools.product(*args_list):\n",
    "            if show_ini:\n",
    "                print i\n",
    "            pickle.dump(i,open(self.ini_dir+str(count)+\"_to_run\",\"w\"))\n",
    "            count+=1\n",
    "        count-=1\n",
    "        if self.if_log:\n",
    "            print \"All \"+str(count)+\" ini files generated.\"\n",
    "        \n",
    "    def find_files(self,_type):\n",
    "        all_files=filter(lambda x:x[0]!=\".\",os.listdir(self.ini_dir))\n",
    "        return filter(lambda x:x[-len(_type):]==_type,all_files)\n",
    "        \n",
    "    def return_a_para(self):\n",
    "        this_para=[]\n",
    "        while(this_para==[] and len(self.find_files(\"_to_run\"))>0):\n",
    "            choises=self.find_files(\"_to_run\")\n",
    "            if len(choises)==0:\n",
    "                return [],-1\n",
    "            else:\n",
    "                my_choise=choises[random.randint(0,len(choises)-1)]\n",
    "                new_name=self.ini_dir+my_choise[:-7]+\"_running\"\n",
    "                try:\n",
    "                    os.rename(self.ini_dir+my_choise,new_name)      \n",
    "                    this_para=pickle.load(open(new_name,\"r\"))\n",
    "                    return this_para,new_name\n",
    "                except OSError:\n",
    "                    pass\n",
    "                \n",
    "        #below is for this situation: 3 node is running, node 1 is very slow and  node 2 3 are fast,only 1 job running in node1\n",
    "        while(this_para==[] and len(self.find_files(\"_running\"))>0 and len(self.find_files(\"_to_run\"))==0):\n",
    "            choises=self.find_files(\"running\")\n",
    "            this_choise=choises[random.randint(0,len(choises)-1)]\n",
    "            this_para=pickle.load(open(self.ini_dir+this_choise,\"r\"))\n",
    "            return this_para,self.ini_dir+this_choise\n",
    "        \n",
    "        return [],-1\n",
    "    \n",
    "    def run(self,main_function):\n",
    "        error_time=0\n",
    "        while(error_time<self.max_error_times): \n",
    "            find_a_para,para_path=self.return_a_para()\n",
    "            if find_a_para==[]:\n",
    "                if self.if_log:\n",
    "                    print \"All finished, no new task to run.\"\n",
    "                break\n",
    "            else:\n",
    "                try:\n",
    "                    result=main_function(find_a_para)\n",
    "                    if os.path.isfile(para_path[:-8]+\"_finished\"):\n",
    "                        if self.if_log:\n",
    "                            print \"This job is already done by others\"                        \n",
    "                    else:\n",
    "                        pickle.dump(result,open(self.result_dir+para_path[len(self.ini_dir):-8],\"w\"))\n",
    "                        if os.path.isfile(para_path[:-8]+\"_to_run\"):\n",
    "                            os.rename(para_path[:-8]+\"_to_run\",para_path[:-8]+\"_finished\")    \n",
    "                        else:\n",
    "                            os.rename(para_path,para_path[:-8]+\"_finished\")      \n",
    "\n",
    "                except Exception:\n",
    "                    error_time+=1\n",
    "                    if self.if_log:\n",
    "                        print \"Error! Total error times: \"+str(error_time)\n",
    "                    if os.path.isfile(para_path):\n",
    "                        print \"Rename\"+para_path+\" to \"+para_path[:-8]+\"_to_run\"\n",
    "                        os.rename(para_path,para_path[:-8]+\"_to_run\")\n",
    "                    else:\n",
    "                        if self.if_log:\n",
    "                            print \"Fortunately, this job is already done by others\"\n",
    "                    \n",
    "            if error_time>=self.max_error_times:\n",
    "                if self.if_log:\n",
    "                    print \"Too many error times, break.\""
   ]
  },
  {
   "cell_type": "code",
   "execution_count": 41,
   "metadata": {
    "collapsed": true
   },
   "outputs": [],
   "source": [
    "a=parallel_runner(if_log=1)"
   ]
  },
  {
   "cell_type": "code",
   "execution_count": 42,
   "metadata": {},
   "outputs": [
    {
     "name": "stdout",
     "output_type": "stream",
     "text": [
      "All 2 ini files generated.\n"
     ]
    }
   ],
   "source": [
    "a.generate_ini([[(1,1,1,1),],[2],(4,5)])"
   ]
  },
  {
   "cell_type": "code",
   "execution_count": 46,
   "metadata": {
    "collapsed": true
   },
   "outputs": [],
   "source": [
    "def func_a(m):\n",
    "    print m\n",
    "    time.sleep(a)\n",
    "    print 0/(m[1]-3)\n",
    "    print m[0]"
   ]
  },
  {
   "cell_type": "code",
   "execution_count": 44,
   "metadata": {},
   "outputs": [
    {
     "data": {
      "text/plain": [
       "(((1, 1, 1, 1), 2, 4), './ini/1_running')"
      ]
     },
     "execution_count": 44,
     "metadata": {},
     "output_type": "execute_result"
    }
   ],
   "source": [
    "a.return_a_para()"
   ]
  },
  {
   "cell_type": "code",
   "execution_count": 47,
   "metadata": {},
   "outputs": [
    {
     "name": "stdout",
     "output_type": "stream",
     "text": [
      "((1, 1, 1, 1), 2, 4)\n",
      "Error! Total error times: 1\n",
      "Rename./ini/1_running to ./ini/1_to_run\n",
      "((1, 1, 1, 1), 2, 4)\n",
      "Error! Total error times: 2\n",
      "Rename./ini/1_running to ./ini/1_to_run\n",
      "((1, 1, 1, 1), 2, 4)\n",
      "Error! Total error times: 3\n",
      "Rename./ini/1_running to ./ini/1_to_run\n",
      "((1, 1, 1, 1), 2, 4)\n",
      "Error! Total error times: 4\n",
      "Rename./ini/1_running to ./ini/1_to_run\n",
      "((1, 1, 1, 1), 2, 4)\n",
      "Error! Total error times: 5\n",
      "Rename./ini/1_running to ./ini/1_to_run\n",
      "Too many error times, break.\n"
     ]
    }
   ],
   "source": [
    "a.run(func_a)"
   ]
  },
  {
   "cell_type": "code",
   "execution_count": 23,
   "metadata": {},
   "outputs": [
    {
     "data": {
      "text/plain": [
       "(((1, 1, 1, 1), 2, 5), './ini/2_running')"
      ]
     },
     "execution_count": 23,
     "metadata": {},
     "output_type": "execute_result"
    }
   ],
   "source": [
    "a.return_a_para()"
   ]
  }
 ],
 "metadata": {
  "kernelspec": {
   "display_name": "Python 2",
   "language": "python",
   "name": "python2"
  },
  "language_info": {
   "codemirror_mode": {
    "name": "ipython",
    "version": 2
   },
   "file_extension": ".py",
   "mimetype": "text/x-python",
   "name": "python",
   "nbconvert_exporter": "python",
   "pygments_lexer": "ipython2",
   "version": "2.7.11"
  }
 },
 "nbformat": 4,
 "nbformat_minor": 2
}
